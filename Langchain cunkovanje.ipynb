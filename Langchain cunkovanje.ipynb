{
 "cells": [
  {
   "cell_type": "code",
   "execution_count": 1,
   "id": "0c516772",
   "metadata": {},
   "outputs": [],
   "source": [
    "import openai\n",
    "import os"
   ]
  },
  {
   "cell_type": "markdown",
   "id": "d9490dbc",
   "metadata": {},
   "source": [
    "os.environ['OPENAI_API_KEY'] = '...'"
   ]
  },
  {
   "cell_type": "code",
   "execution_count": 4,
   "id": "6f813570",
   "metadata": {},
   "outputs": [],
   "source": [
    "openai.api_key = os.environ[\"OPENAI_API_KEY\"] "
   ]
  },
  {
   "cell_type": "markdown",
   "id": "6767bf94",
   "metadata": {},
   "source": [
    "Prolazimo kroz PDF fajl i sa svek stranice izvlacimo tekst. Varijabla tekst na kraju sadrzi sav tekst sa slike."
   ]
  },
  {
   "cell_type": "code",
   "execution_count": 31,
   "id": "8c998b94",
   "metadata": {},
   "outputs": [],
   "source": [
    "from PyPDF2 import PdfReader\n",
    "\n",
    "file_path = 'C:/Users/enaf/Documents/OPENAI/Dokumenta za ChatGPT/CTSI BG Company Benefits_A4 26 07 2023.pdf'\n",
    "text = ''\n",
    "# Otvori PDF fajl\n",
    "with open(file_path, 'rb') as pdf_file:\n",
    "    pdf_reader =PdfReader(pdf_file)\n",
    "    for page in pdf_reader.pages:\n",
    "            text += page.extract_text()"
   ]
  },
  {
   "cell_type": "markdown",
   "id": "0975f1cf",
   "metadata": {},
   "source": [
    "To count the number of tokens that gpt-3.5-turbo will use for some text we need to initialize the tiktoken tokenizer"
   ]
  },
  {
   "cell_type": "code",
   "execution_count": 32,
   "id": "dab5024a",
   "metadata": {},
   "outputs": [],
   "source": [
    "import tiktoken\n",
    "\n",
    "tokenizer = tiktoken.encoding_for_model('gpt-3.5-turbo')\n",
    "\n",
    "# create the length function\n",
    "def tiktoken_len(text):\n",
    "    tokens = tokenizer.encode(\n",
    "        text,\n",
    "        disallowed_special=()\n",
    "    )\n",
    "    return len(tokens)"
   ]
  },
  {
   "cell_type": "code",
   "execution_count": 33,
   "id": "ddfbbd8e",
   "metadata": {},
   "outputs": [
    {
     "data": {
      "text/plain": [
       "1458"
      ]
     },
     "execution_count": 33,
     "metadata": {},
     "output_type": "execute_result"
    }
   ],
   "source": [
    "token_counts = tiktoken_len(text)\n",
    "token_counts"
   ]
  },
  {
   "cell_type": "markdown",
   "id": "034e056e",
   "metadata": {},
   "source": [
    "Nas dokument ima ukupno 1458 tokena."
   ]
  },
  {
   "cell_type": "code",
   "execution_count": 34,
   "id": "258fc813",
   "metadata": {},
   "outputs": [
    {
     "data": {
      "text/plain": [
       "'Flexible working hours \\nThe schedule allows you to start your day between 8 and 10 AM.  \\nOn Fridays, working hours are reduced to seven hours.  \\nA hybrid workplace model \\nOur colleagues from the Delivery and ICT team, who can complete some of their tasks from home, get \\nto stay in for up to 8 days monthly.  \\nDays off \\nFathers have 5 days off when their child is born, and all parents get an additional day off for the \\nfirst day of school. Furthermore, we have additional days off for different occasions like weddings, \\nchildbirth, etc.  \\nVacation \\nOur employees can get up to 28 days of annual leave. The legal minimum of 20 days is increased \\nbased on seniority, years of service, education and health and social status.  \\n5 days of sick leave @ 100% salary \\nAll employees have the right to call in sick, and even without the medical report, have up to 5 days of \\nsuch sick leave annually, compensated at 100% pay.Flexible working modelCompany\\nbenefits\\nBelgrade\\nThe big-ol’ tech campus \\nYes, we take pride in having a modern, green and spacious campus in the heart of New Belgrade.  \\nWe share the campus with some of the other members of the Comtrade Group, and enjoy interacting \\nwith our extended-family at the company park, new company café, or the restaurant.  \\nParking space\\nYou will always have a parking space in the Belgrade office, no matter how unrealistic it sounds.  \\nNew & renovated workspace \\nOur colleagues get to keep their focus and feel good at all times, thanks to new or renovated modern \\noffice space, contemporary equipment, comfortable ergonomic chairs and everything they need \\nduring the working day. The Fun Room is an area in our Belgrade campus where employees can relax \\nplaying table tennis, football, darts and chess.\\nCompany restaurant \\nGet a wide choice of at meals at the company restaurant at affordable prices, freshly prepared and \\nadapted to different dietary regimes.\\nFree snacks, fruits and drinks \\nRunning low on energy? We got you covered. You will be able to have some snacks, fruits and drinks \\navailable at the Fun Room.\\nPrivate health insurance \\nAll of our employees in Serbia are covered by private health insurance with only 20% participation \\nin various matters in the majority of health institutions. Also, we can add family members to the same \\ninsurance policy at a discounted price.  \\nMental health support program \\nAccess to innovative well-being platforms and \\ncounseling to preserve and improve mental health \\nby increasing resistance to stress, job satisfaction \\nand quality of life as a whole.A workplace that we are proud of\\nWellness and social activities\\nFamily Day \\nOnce a year, usually towards the end of Summer, all of Comtrade Group employees get together for \\nFamily Day. We bring our families and friends, enjoy outdoor activities and sports, and just have a \\ngreat time.\\nEvents for kids and adults \\nFor New Year’s, all of our kids have a chance to come to the campus to enjoy a show and spend some \\ntime with Santa. All kids under 10 also get presents from Santa, so we all get to enjoy the holiday \\nspirit. Also, we organize events for different occasions like Easter, the first day of  school, etc.\\nBasketball training for our little ones  \\nIn the sports hall at our Belgrade campus, the kids get to practice basketball for free.\\nSummer camp \\nFor three weeks during the summer break, the children of employees have the opportunity to \\nparticipate in a summer camp, a supervised program for young ones conducted during the summer \\nmonths with a lot of educational and sports activities.Family supportTeam building \\nOnce a year, we organize a team building where we go out of town for a night or two. We choose a \\nlocation that will allow us to hang out in nature, enjoy sports, play and learn through fun team-building \\nactivities, and have all the fun we can handle in the evenings. Also, every team has the possibility to \\nplan a smaller team building activity.\\nHappy hours \\nSeveral times a year, we organize a gathering on the last Friday of the month. It’s usually after work at \\nthe company café or nearby – at a location where we provide drinks, snacks and sometimes – a DJ or \\nlive music. Also, we organize a NY party, usually in the company restaurant or our new cafe.\\nTop-performer budget \\nAll teams or SDUs have a periodic budget reserved for the team members who are showing \\noutstanding performance.\\nBudget for education \\nThe company invests in education. Every employee has an opportunity and a budget for developing \\nsoft and hard skills.  Also, English and German language lessons are free for every employee.\\nEducation for family members at ITS, ITHS, and Code academy \\nOur colleagues’ kids and other family members get substantial discounts for tuition fees at ITS \\nand ITHS. Code Academy also offers significant discounts for their specialized IT courses to our \\nemployees.Access to company gym and personal trainers \\nThe company gym is located on the ground floor of the Belgrade headquarters. It is equipped with \\nthe top-notch training equipment. Workout sessions are always led by our colleagues and personal \\ntrainers, every working day from 8-9 am, and from 5-6 pm - except for Fridays when there are only the \\nmorning sessions.\\nAccess to company sports hall \\nWe have a full-scale sports facility at our Belgrade \\ncampus, accessible to all employees.\\nOpportunities for team sports  \\nA number of our colleagues often get together for \\nvarious team sports and activities (volleyball, football, \\nbowling, badminton, even bridge and music section).\\nDevelopmentSports and fitnessNew moms are our heroes \\nIn our playbook, working moms are the best. That’s why they get appropriate presents. When new \\nmoms decide to get back to work, we welcome them with a 50% decreased workload for the first \\nmonth back from maternity leave, with 100% of the salary.\\nNew Dads\\nEnhanced paternity leave policy: 5-day duration for fathers upon childbirth. \\ncomtradeintegration.comFollow usDiscounts at our partner-vendors \\nBeing a Comtrade System Integration employee comes with certain benefits and discounted prices at \\nour clients.\\nToken of appreciation for March 8th \\nWe like to think that if Comtrade System Integration was a person, they would be a gentleman/\\ngentlewoman. Therefore, on March 8th, our female colleagues get a present in form of a special \\nvoucher.\\nBuying out your old equipment \\nEach employee receives a laptop, monitor, docking station, and in some cases a cellphone, as well \\nas other specific working equipment. Employees have an option to buy out their personal work \\nequipment, once it is time to replace it.\\nHeartCount\\nWe would like to emphasize that your opinion matters to us! With the HeartCount application, we \\ndiligently monitor employee satisfaction to provide you with support in overcoming any potential \\nchallenges.Other benefits\\n'"
      ]
     },
     "execution_count": 34,
     "metadata": {},
     "output_type": "execute_result"
    }
   ],
   "source": [
    "text"
   ]
  },
  {
   "cell_type": "code",
   "execution_count": 53,
   "id": "89904198",
   "metadata": {},
   "outputs": [],
   "source": [
    "from langchain.text_splitter import RecursiveCharacterTextSplitter\n",
    "\n",
    "text_splitter = RecursiveCharacterTextSplitter(\n",
    "    chunk_size=200,\n",
    "    chunk_overlap=50,  # number of tokens overlap between chunks\n",
    "    length_function=tiktoken_len,\n",
    "    separators=['\\n\\n', '\\n', '.']\n",
    ")"
   ]
  },
  {
   "cell_type": "code",
   "execution_count": 54,
   "id": "48b07c5e",
   "metadata": {},
   "outputs": [
    {
     "data": {
      "text/plain": [
       "11"
      ]
     },
     "execution_count": 54,
     "metadata": {},
     "output_type": "execute_result"
    }
   ],
   "source": [
    "chunks = text_splitter.split_text(text)\n",
    "len(chunks)"
   ]
  },
  {
   "cell_type": "code",
   "execution_count": 55,
   "id": "9ad32e8d",
   "metadata": {},
   "outputs": [
    {
     "data": {
      "text/plain": [
       "'Flexible working hours \\nThe schedule allows you to start your day between 8 and 10 AM.  \\nOn Fridays, working hours are reduced to seven hours.  \\nA hybrid workplace model \\nOur colleagues from the Delivery and ICT team, who can complete some of their tasks from home, get \\nto stay in for up to 8 days monthly.  \\nDays off \\nFathers have 5 days off when their child is born, and all parents get an additional day off for the \\nfirst day of school. Furthermore, we have additional days off for different occasions like weddings, \\nchildbirth, etc.  \\nVacation \\nOur employees can get up to 28 days of annual leave. The legal minimum of 20 days is increased \\nbased on seniority, years of service, education and health and social status.  \\n5 days of sick leave @ 100% salary'"
      ]
     },
     "execution_count": 55,
     "metadata": {},
     "output_type": "execute_result"
    }
   ],
   "source": [
    "chunks[0]"
   ]
  },
  {
   "cell_type": "code",
   "execution_count": 58,
   "id": "277f14a8",
   "metadata": {},
   "outputs": [
    {
     "data": {
      "text/plain": [
       "176"
      ]
     },
     "execution_count": 58,
     "metadata": {},
     "output_type": "execute_result"
    }
   ],
   "source": [
    "tiktoken_len(chunks[0])"
   ]
  },
  {
   "cell_type": "code",
   "execution_count": 56,
   "id": "27f5d7b1",
   "metadata": {},
   "outputs": [
    {
     "data": {
      "text/plain": [
       "'based on seniority, years of service, education and health and social status.  \\n5 days of sick leave @ 100% salary \\nAll employees have the right to call in sick, and even without the medical report, have up to 5 days of \\nsuch sick leave annually, compensated at 100% pay.Flexible working modelCompany\\nbenefits\\nBelgrade\\nThe big-ol’ tech campus \\nYes, we take pride in having a modern, green and spacious campus in the heart of New Belgrade.  \\nWe share the campus with some of the other members of the Comtrade Group, and enjoy interacting \\nwith our extended-family at the company park, new company café, or the restaurant.  \\nParking space\\nYou will always have a parking space in the Belgrade office, no matter how unrealistic it sounds.  \\nNew & renovated workspace'"
      ]
     },
     "execution_count": 56,
     "metadata": {},
     "output_type": "execute_result"
    }
   ],
   "source": [
    "chunks[1]"
   ]
  },
  {
   "cell_type": "code",
   "execution_count": 59,
   "id": "bea9caaa",
   "metadata": {},
   "outputs": [
    {
     "data": {
      "text/plain": [
       "173"
      ]
     },
     "execution_count": 59,
     "metadata": {},
     "output_type": "execute_result"
    }
   ],
   "source": [
    "tiktoken_len(chunks[1])"
   ]
  },
  {
   "cell_type": "code",
   "execution_count": 57,
   "id": "50545742",
   "metadata": {},
   "outputs": [
    {
     "data": {
      "text/plain": [
       "'with our extended-family at the company park, new company café, or the restaurant.  \\nParking space\\nYou will always have a parking space in the Belgrade office, no matter how unrealistic it sounds.  \\nNew & renovated workspace \\nOur colleagues get to keep their focus and feel good at all times, thanks to new or renovated modern \\noffice space, contemporary equipment, comfortable ergonomic chairs and everything they need \\nduring the working day. The Fun Room is an area in our Belgrade campus where employees can relax \\nplaying table tennis, football, darts and chess.\\nCompany restaurant \\nGet a wide choice of at meals at the company restaurant at affordable prices, freshly prepared and \\nadapted to different dietary regimes.\\nFree snacks, fruits and drinks \\nRunning low on energy? We got you covered. You will be able to have some snacks, fruits and drinks \\navailable at the Fun Room.\\nPrivate health insurance'"
      ]
     },
     "execution_count": 57,
     "metadata": {},
     "output_type": "execute_result"
    }
   ],
   "source": [
    "chunks[2]"
   ]
  },
  {
   "cell_type": "code",
   "execution_count": 60,
   "id": "43622de5",
   "metadata": {},
   "outputs": [
    {
     "data": {
      "text/plain": [
       "182"
      ]
     },
     "execution_count": 60,
     "metadata": {},
     "output_type": "execute_result"
    }
   ],
   "source": [
    "tiktoken_len(chunks[2])"
   ]
  },
  {
   "cell_type": "markdown",
   "id": "bbf151a1",
   "metadata": {},
   "source": [
    "Iako se nekada desi da se prekine chunk u pola recenice i da se izgubi znacenje, sa overlap \n",
    "parametrom omogucavamo da pocetak narednog chunka bude 50 tokena iza kraja i da se uhvati semantika isecene recenice."
   ]
  },
  {
   "cell_type": "code",
   "execution_count": null,
   "id": "e60a5c60",
   "metadata": {},
   "outputs": [],
   "source": []
  }
 ],
 "metadata": {
  "kernelspec": {
   "display_name": "Python 3 (ipykernel)",
   "language": "python",
   "name": "python3"
  },
  "language_info": {
   "codemirror_mode": {
    "name": "ipython",
    "version": 3
   },
   "file_extension": ".py",
   "mimetype": "text/x-python",
   "name": "python",
   "nbconvert_exporter": "python",
   "pygments_lexer": "ipython3",
   "version": "3.10.9"
  }
 },
 "nbformat": 4,
 "nbformat_minor": 5
}
